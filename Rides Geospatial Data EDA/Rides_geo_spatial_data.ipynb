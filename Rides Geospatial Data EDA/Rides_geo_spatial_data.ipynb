{
  "nbformat": 4,
  "nbformat_minor": 0,
  "metadata": {
    "colab": {
      "name": "Rapido_Senior_Data-Analyst_Assignment_Gurteg",
      "provenance": [],
      "collapsed_sections": []
    },
    "kernelspec": {
      "name": "python3",
      "display_name": "Python 3"
    }
  },
  "cells": [
    {
      "cell_type": "code",
      "metadata": {
        "id": "I0zCpsZJAgHk",
        "colab": {
          "base_uri": "https://localhost:8080/"
        },
        "outputId": "e791cfa9-274b-42b3-e04b-00525ed70a93"
      },
      "source": [
        "import pandas as pd\n",
        "!pip install -U pandasql\n",
        "from pandasql import sqldf"
      ],
      "execution_count": 155,
      "outputs": [
        {
          "output_type": "stream",
          "text": [
            "Requirement already up-to-date: pandasql in /usr/local/lib/python3.6/dist-packages (0.7.3)\n",
            "Requirement already satisfied, skipping upgrade: sqlalchemy in /usr/local/lib/python3.6/dist-packages (from pandasql) (1.3.23)\n",
            "Requirement already satisfied, skipping upgrade: pandas in /usr/local/lib/python3.6/dist-packages (from pandasql) (1.1.5)\n",
            "Requirement already satisfied, skipping upgrade: numpy in /usr/local/lib/python3.6/dist-packages (from pandasql) (1.19.5)\n",
            "Requirement already satisfied, skipping upgrade: python-dateutil>=2.7.3 in /usr/local/lib/python3.6/dist-packages (from pandas->pandasql) (2.8.1)\n",
            "Requirement already satisfied, skipping upgrade: pytz>=2017.2 in /usr/local/lib/python3.6/dist-packages (from pandas->pandasql) (2018.9)\n",
            "Requirement already satisfied, skipping upgrade: six>=1.5 in /usr/local/lib/python3.6/dist-packages (from python-dateutil>=2.7.3->pandas->pandasql) (1.15.0)\n"
          ],
          "name": "stdout"
        }
      ]
    },
    {
      "cell_type": "code",
      "metadata": {
        "colab": {
          "base_uri": "https://localhost:8080/"
        },
        "id": "YBIcycjgDz-c",
        "outputId": "8ff592c8-4469-40cd-d133-0851a42ed515"
      },
      "source": [
        "from google.colab import drive\n",
        "drive.mount('/content/gdrive')"
      ],
      "execution_count": 3,
      "outputs": [
        {
          "output_type": "stream",
          "text": [
            "Mounted at /content/gdrive\n"
          ],
          "name": "stdout"
        }
      ]
    },
    {
      "cell_type": "code",
      "metadata": {
        "colab": {
          "base_uri": "https://localhost:8080/"
        },
        "id": "8sH-z-9GDx0z",
        "outputId": "f3a2e664-39a1-4d9f-b740-4c7f85982615"
      },
      "source": [
        "#importing data\n",
        "\n",
        "data=pd.read_csv('gdrive/My Drive/Data Set.txt',sep=\"\\t\",encoding = 'utf-16'\n",
        "            ,names=[\"customerid\",\"orderId\",\"yyyymmdd\",\"pickuplocation_lat\",\"pickuplocation_lng\",\"droplocation_lat\",\n",
        "                                    \"droplocation_lng\",\"subtotal\",\"surge\"])"
      ],
      "execution_count": 141,
      "outputs": [
        {
          "output_type": "stream",
          "text": [
            "/usr/local/lib/python3.6/dist-packages/IPython/core/interactiveshell.py:2718: DtypeWarning: Columns (2,3,4,5,6,7,8) have mixed types.Specify dtype option on import or set low_memory=False.\n",
            "  interactivity=interactivity, compiler=compiler, result=result)\n"
          ],
          "name": "stderr"
        }
      ]
    },
    {
      "cell_type": "code",
      "metadata": {
        "id": "wYwXTOzZhdJF"
      },
      "source": [
        ""
      ],
      "execution_count": null,
      "outputs": []
    },
    {
      "cell_type": "markdown",
      "metadata": {
        "id": "iNbm4659hdhs"
      },
      "source": [
        "# **EDA**"
      ]
    },
    {
      "cell_type": "code",
      "metadata": {
        "id": "Tv9uuApp8fVN"
      },
      "source": [
        "data = data.iloc[1:]"
      ],
      "execution_count": 142,
      "outputs": []
    },
    {
      "cell_type": "code",
      "metadata": {
        "colab": {
          "base_uri": "https://localhost:8080/",
          "height": 204
        },
        "id": "2_EsMN1wInXJ",
        "outputId": "59483ba8-30dd-41a9-ecd5-7a55f87970e3"
      },
      "source": [
        "data.head()"
      ],
      "execution_count": 143,
      "outputs": [
        {
          "output_type": "execute_result",
          "data": {
            "text/html": [
              "<div>\n",
              "<style scoped>\n",
              "    .dataframe tbody tr th:only-of-type {\n",
              "        vertical-align: middle;\n",
              "    }\n",
              "\n",
              "    .dataframe tbody tr th {\n",
              "        vertical-align: top;\n",
              "    }\n",
              "\n",
              "    .dataframe thead th {\n",
              "        text-align: right;\n",
              "    }\n",
              "</style>\n",
              "<table border=\"1\" class=\"dataframe\">\n",
              "  <thead>\n",
              "    <tr style=\"text-align: right;\">\n",
              "      <th></th>\n",
              "      <th>customerid</th>\n",
              "      <th>orderId</th>\n",
              "      <th>yyyymmdd</th>\n",
              "      <th>pickuplocation_lat</th>\n",
              "      <th>pickuplocation_lng</th>\n",
              "      <th>droplocation_lat</th>\n",
              "      <th>droplocation_lng</th>\n",
              "      <th>subtotal</th>\n",
              "      <th>surge</th>\n",
              "    </tr>\n",
              "  </thead>\n",
              "  <tbody>\n",
              "    <tr>\n",
              "      <th>1</th>\n",
              "      <td>182cefbc1000000</td>\n",
              "      <td>RD500000001</td>\n",
              "      <td>20201130</td>\n",
              "      <td>26.11647987</td>\n",
              "      <td>91.72194672</td>\n",
              "      <td>26.17539024</td>\n",
              "      <td>91.77307129</td>\n",
              "      <td>114</td>\n",
              "      <td>18.82</td>\n",
              "    </tr>\n",
              "    <tr>\n",
              "      <th>2</th>\n",
              "      <td>d4cd2fa51000001</td>\n",
              "      <td>RD500000002</td>\n",
              "      <td>20201130</td>\n",
              "      <td>26.16446475</td>\n",
              "      <td>91.7379152</td>\n",
              "      <td>26.1571672</td>\n",
              "      <td>91.6912431</td>\n",
              "      <td>0</td>\n",
              "      <td>NaN</td>\n",
              "    </tr>\n",
              "    <tr>\n",
              "      <th>3</th>\n",
              "      <td>ff315fa91000002</td>\n",
              "      <td>RD500000003</td>\n",
              "      <td>20201130</td>\n",
              "      <td>26.15999297</td>\n",
              "      <td>91.68274418</td>\n",
              "      <td>26.1579487</td>\n",
              "      <td>91.7716225</td>\n",
              "      <td>115</td>\n",
              "      <td>18.97</td>\n",
              "    </tr>\n",
              "    <tr>\n",
              "      <th>4</th>\n",
              "      <td>d4cd2fa51000001</td>\n",
              "      <td>RD500000004</td>\n",
              "      <td>20201130</td>\n",
              "      <td>26.16441389</td>\n",
              "      <td>91.73664719</td>\n",
              "      <td>26.1571672</td>\n",
              "      <td>91.6912431</td>\n",
              "      <td>57</td>\n",
              "      <td>9.41</td>\n",
              "    </tr>\n",
              "    <tr>\n",
              "      <th>5</th>\n",
              "      <td>182cefbc1000000</td>\n",
              "      <td>RD500000005</td>\n",
              "      <td>20201130</td>\n",
              "      <td>26.1164805</td>\n",
              "      <td>91.7219495</td>\n",
              "      <td>26.1753906</td>\n",
              "      <td>91.7730715</td>\n",
              "      <td>114</td>\n",
              "      <td>18.82</td>\n",
              "    </tr>\n",
              "  </tbody>\n",
              "</table>\n",
              "</div>"
            ],
            "text/plain": [
              "        customerid      orderId  yyyymmdd  ... droplocation_lng subtotal  surge\n",
              "1  182cefbc1000000  RD500000001  20201130  ...      91.77307129      114  18.82\n",
              "2  d4cd2fa51000001  RD500000002  20201130  ...       91.6912431        0    NaN\n",
              "3  ff315fa91000002  RD500000003  20201130  ...       91.7716225      115  18.97\n",
              "4  d4cd2fa51000001  RD500000004  20201130  ...       91.6912431       57   9.41\n",
              "5  182cefbc1000000  RD500000005  20201130  ...       91.7730715      114  18.82\n",
              "\n",
              "[5 rows x 9 columns]"
            ]
          },
          "metadata": {
            "tags": []
          },
          "execution_count": 143
        }
      ]
    },
    {
      "cell_type": "code",
      "metadata": {
        "colab": {
          "base_uri": "https://localhost:8080/"
        },
        "id": "3k42h7BmIqJF",
        "outputId": "1971cc2c-5128-4983-b78f-488f3c89f8ee"
      },
      "source": [
        "data.info()\n"
      ],
      "execution_count": 144,
      "outputs": [
        {
          "output_type": "stream",
          "text": [
            "<class 'pandas.core.frame.DataFrame'>\n",
            "RangeIndex: 537968 entries, 1 to 537968\n",
            "Data columns (total 9 columns):\n",
            " #   Column              Non-Null Count   Dtype \n",
            "---  ------              --------------   ----- \n",
            " 0   customerid          537968 non-null  object\n",
            " 1   orderId             537968 non-null  object\n",
            " 2   yyyymmdd            537968 non-null  object\n",
            " 3   pickuplocation_lat  537968 non-null  object\n",
            " 4   pickuplocation_lng  537968 non-null  object\n",
            " 5   droplocation_lat    537965 non-null  object\n",
            " 6   droplocation_lng    537965 non-null  object\n",
            " 7   subtotal            537960 non-null  object\n",
            " 8   surge               504318 non-null  object\n",
            "dtypes: object(9)\n",
            "memory usage: 36.9+ MB\n"
          ],
          "name": "stdout"
        }
      ]
    },
    {
      "cell_type": "code",
      "metadata": {
        "id": "bthMxNTRh0rz"
      },
      "source": [
        "## changing lat, long and fares -subtotal and surge to float values\n",
        "data['pickuplocation_lat']=pd.to_numeric(data['pickuplocation_lat'])\n",
        "data['pickuplocation_lng']=pd.to_numeric(data['pickuplocation_lng'])\n",
        "data['droplocation_lat']=pd.to_numeric(data['droplocation_lat'])\n",
        "data['droplocation_lng']=pd.to_numeric(data['droplocation_lng'])\n",
        "data['subtotal']=pd.to_numeric(data['subtotal'])\n",
        "data['surge']=pd.to_numeric(data['surge'])\n"
      ],
      "execution_count": 145,
      "outputs": []
    },
    {
      "cell_type": "code",
      "metadata": {
        "colab": {
          "base_uri": "https://localhost:8080/",
          "height": 297
        },
        "id": "CoJzyZE3nAwn",
        "outputId": "164b5dbb-568f-43aa-c383-77a867c621f8"
      },
      "source": [
        "##description of data\n",
        "data.describe()"
      ],
      "execution_count": 146,
      "outputs": [
        {
          "output_type": "execute_result",
          "data": {
            "text/html": [
              "<div>\n",
              "<style scoped>\n",
              "    .dataframe tbody tr th:only-of-type {\n",
              "        vertical-align: middle;\n",
              "    }\n",
              "\n",
              "    .dataframe tbody tr th {\n",
              "        vertical-align: top;\n",
              "    }\n",
              "\n",
              "    .dataframe thead th {\n",
              "        text-align: right;\n",
              "    }\n",
              "</style>\n",
              "<table border=\"1\" class=\"dataframe\">\n",
              "  <thead>\n",
              "    <tr style=\"text-align: right;\">\n",
              "      <th></th>\n",
              "      <th>pickuplocation_lat</th>\n",
              "      <th>pickuplocation_lng</th>\n",
              "      <th>droplocation_lat</th>\n",
              "      <th>droplocation_lng</th>\n",
              "      <th>subtotal</th>\n",
              "      <th>surge</th>\n",
              "    </tr>\n",
              "  </thead>\n",
              "  <tbody>\n",
              "    <tr>\n",
              "      <th>count</th>\n",
              "      <td>537968.000000</td>\n",
              "      <td>537968.000000</td>\n",
              "      <td>537965.000000</td>\n",
              "      <td>537965.000000</td>\n",
              "      <td>537960.000000</td>\n",
              "      <td>504318.000000</td>\n",
              "    </tr>\n",
              "    <tr>\n",
              "      <th>mean</th>\n",
              "      <td>26.156753</td>\n",
              "      <td>91.769602</td>\n",
              "      <td>26.157185</td>\n",
              "      <td>91.768401</td>\n",
              "      <td>44.810190</td>\n",
              "      <td>1.598761</td>\n",
              "    </tr>\n",
              "    <tr>\n",
              "      <th>std</th>\n",
              "      <td>0.070957</td>\n",
              "      <td>0.169599</td>\n",
              "      <td>0.037420</td>\n",
              "      <td>0.083548</td>\n",
              "      <td>26.821464</td>\n",
              "      <td>3.527428</td>\n",
              "    </tr>\n",
              "    <tr>\n",
              "      <th>min</th>\n",
              "      <td>-18.142353</td>\n",
              "      <td>-16.679912</td>\n",
              "      <td>12.959388</td>\n",
              "      <td>70.066031</td>\n",
              "      <td>0.000000</td>\n",
              "      <td>0.000000</td>\n",
              "    </tr>\n",
              "    <tr>\n",
              "      <th>25%</th>\n",
              "      <td>26.139098</td>\n",
              "      <td>91.752296</td>\n",
              "      <td>26.139164</td>\n",
              "      <td>91.750954</td>\n",
              "      <td>31.000000</td>\n",
              "      <td>0.000000</td>\n",
              "    </tr>\n",
              "    <tr>\n",
              "      <th>50%</th>\n",
              "      <td>26.159117</td>\n",
              "      <td>91.774643</td>\n",
              "      <td>26.160004</td>\n",
              "      <td>91.773087</td>\n",
              "      <td>39.000000</td>\n",
              "      <td>0.000000</td>\n",
              "    </tr>\n",
              "    <tr>\n",
              "      <th>75%</th>\n",
              "      <td>26.175751</td>\n",
              "      <td>91.790288</td>\n",
              "      <td>26.176632</td>\n",
              "      <td>91.789689</td>\n",
              "      <td>54.000000</td>\n",
              "      <td>0.000000</td>\n",
              "    </tr>\n",
              "    <tr>\n",
              "      <th>max</th>\n",
              "      <td>28.514013</td>\n",
              "      <td>94.891169</td>\n",
              "      <td>28.494531</td>\n",
              "      <td>94.909240</td>\n",
              "      <td>681.000000</td>\n",
              "      <td>66.690000</td>\n",
              "    </tr>\n",
              "  </tbody>\n",
              "</table>\n",
              "</div>"
            ],
            "text/plain": [
              "       pickuplocation_lat  pickuplocation_lng  ...       subtotal          surge\n",
              "count       537968.000000       537968.000000  ...  537960.000000  504318.000000\n",
              "mean            26.156753           91.769602  ...      44.810190       1.598761\n",
              "std              0.070957            0.169599  ...      26.821464       3.527428\n",
              "min            -18.142353          -16.679912  ...       0.000000       0.000000\n",
              "25%             26.139098           91.752296  ...      31.000000       0.000000\n",
              "50%             26.159117           91.774643  ...      39.000000       0.000000\n",
              "75%             26.175751           91.790288  ...      54.000000       0.000000\n",
              "max             28.514013           94.891169  ...     681.000000      66.690000\n",
              "\n",
              "[8 rows x 6 columns]"
            ]
          },
          "metadata": {
            "tags": []
          },
          "execution_count": 146
        }
      ]
    },
    {
      "cell_type": "code",
      "metadata": {
        "id": "DOQQ2ziDskBC"
      },
      "source": [
        "#remove subtotal 0 as fare can't be 0, also surge has null values\n",
        "\n",
        "data = data.loc[(data['subtotal'] > 0)]\n"
      ],
      "execution_count": 86,
      "outputs": []
    },
    {
      "cell_type": "code",
      "metadata": {
        "id": "o0vMs12TmUU5"
      },
      "source": [
        "#top 100 coordinate distance based on subtotal+surge/distance"
      ],
      "execution_count": 60,
      "outputs": []
    },
    {
      "cell_type": "code",
      "metadata": {
        "id": "OWs0YbjpicZ5"
      },
      "source": [
        "#Calculating Distance for Pick up and Drop locations"
      ],
      "execution_count": 147,
      "outputs": []
    },
    {
      "cell_type": "code",
      "metadata": {
        "id": "H45z2ysDibbV"
      },
      "source": [
        "from math import radians, cos, sin, asin, sqrt\n",
        "import numpy as np\n",
        "\n",
        "def haversine_np(lon1, lat1, lon2, lat2):\n",
        "    \n",
        "    lon1, lat1, lon2, lat2 = map(np.radians, [lon1, lat1, lon2, lat2])\n",
        "\n",
        "    dlon = lon2 - lon1\n",
        "    dlat = lat2 - lat1\n",
        "\n",
        "    a = np.sin(dlat/2.0)**2 + np.cos(lat1) * np.cos(lat2) * np.sin(dlon/2.0)**2\n",
        "\n",
        "    c = 2 * np.arcsin(np.sqrt(a))\n",
        "    km = 6371 * c  # 6371 is Radius of earth in kilometers.\n",
        "    return km\n",
        "\n",
        "data['distance'] = haversine_np(data['pickuplocation_lat'], data['pickuplocation_lng'], data['droplocation_lat'] , data['droplocation_lng'])"
      ],
      "execution_count": 148,
      "outputs": []
    },
    {
      "cell_type": "code",
      "metadata": {
        "colab": {
          "base_uri": "https://localhost:8080/",
          "height": 204
        },
        "id": "8Wp2-roTibfn",
        "outputId": "2f81236d-146b-4fa0-eba6-f6de0e7868ea"
      },
      "source": [
        "data.head()"
      ],
      "execution_count": 149,
      "outputs": [
        {
          "output_type": "execute_result",
          "data": {
            "text/html": [
              "<div>\n",
              "<style scoped>\n",
              "    .dataframe tbody tr th:only-of-type {\n",
              "        vertical-align: middle;\n",
              "    }\n",
              "\n",
              "    .dataframe tbody tr th {\n",
              "        vertical-align: top;\n",
              "    }\n",
              "\n",
              "    .dataframe thead th {\n",
              "        text-align: right;\n",
              "    }\n",
              "</style>\n",
              "<table border=\"1\" class=\"dataframe\">\n",
              "  <thead>\n",
              "    <tr style=\"text-align: right;\">\n",
              "      <th></th>\n",
              "      <th>customerid</th>\n",
              "      <th>orderId</th>\n",
              "      <th>yyyymmdd</th>\n",
              "      <th>pickuplocation_lat</th>\n",
              "      <th>pickuplocation_lng</th>\n",
              "      <th>droplocation_lat</th>\n",
              "      <th>droplocation_lng</th>\n",
              "      <th>subtotal</th>\n",
              "      <th>surge</th>\n",
              "      <th>distance</th>\n",
              "    </tr>\n",
              "  </thead>\n",
              "  <tbody>\n",
              "    <tr>\n",
              "      <th>1</th>\n",
              "      <td>182cefbc1000000</td>\n",
              "      <td>RD500000001</td>\n",
              "      <td>20201130</td>\n",
              "      <td>26.116480</td>\n",
              "      <td>91.721947</td>\n",
              "      <td>26.175390</td>\n",
              "      <td>91.773071</td>\n",
              "      <td>114.0</td>\n",
              "      <td>18.82</td>\n",
              "      <td>5.688301</td>\n",
              "    </tr>\n",
              "    <tr>\n",
              "      <th>2</th>\n",
              "      <td>d4cd2fa51000001</td>\n",
              "      <td>RD500000002</td>\n",
              "      <td>20201130</td>\n",
              "      <td>26.164465</td>\n",
              "      <td>91.737915</td>\n",
              "      <td>26.157167</td>\n",
              "      <td>91.691243</td>\n",
              "      <td>0.0</td>\n",
              "      <td>NaN</td>\n",
              "      <td>5.189758</td>\n",
              "    </tr>\n",
              "    <tr>\n",
              "      <th>3</th>\n",
              "      <td>ff315fa91000002</td>\n",
              "      <td>RD500000003</td>\n",
              "      <td>20201130</td>\n",
              "      <td>26.159993</td>\n",
              "      <td>91.682744</td>\n",
              "      <td>26.157949</td>\n",
              "      <td>91.771622</td>\n",
              "      <td>115.0</td>\n",
              "      <td>18.97</td>\n",
              "      <td>9.882821</td>\n",
              "    </tr>\n",
              "    <tr>\n",
              "      <th>4</th>\n",
              "      <td>d4cd2fa51000001</td>\n",
              "      <td>RD500000004</td>\n",
              "      <td>20201130</td>\n",
              "      <td>26.164414</td>\n",
              "      <td>91.736647</td>\n",
              "      <td>26.157167</td>\n",
              "      <td>91.691243</td>\n",
              "      <td>57.0</td>\n",
              "      <td>9.41</td>\n",
              "      <td>5.048762</td>\n",
              "    </tr>\n",
              "    <tr>\n",
              "      <th>5</th>\n",
              "      <td>182cefbc1000000</td>\n",
              "      <td>RD500000005</td>\n",
              "      <td>20201130</td>\n",
              "      <td>26.116480</td>\n",
              "      <td>91.721949</td>\n",
              "      <td>26.175391</td>\n",
              "      <td>91.773072</td>\n",
              "      <td>114.0</td>\n",
              "      <td>18.82</td>\n",
              "      <td>5.688015</td>\n",
              "    </tr>\n",
              "  </tbody>\n",
              "</table>\n",
              "</div>"
            ],
            "text/plain": [
              "        customerid      orderId  yyyymmdd  ...  subtotal  surge  distance\n",
              "1  182cefbc1000000  RD500000001  20201130  ...     114.0  18.82  5.688301\n",
              "2  d4cd2fa51000001  RD500000002  20201130  ...       0.0    NaN  5.189758\n",
              "3  ff315fa91000002  RD500000003  20201130  ...     115.0  18.97  9.882821\n",
              "4  d4cd2fa51000001  RD500000004  20201130  ...      57.0   9.41  5.048762\n",
              "5  182cefbc1000000  RD500000005  20201130  ...     114.0  18.82  5.688015\n",
              "\n",
              "[5 rows x 10 columns]"
            ]
          },
          "metadata": {
            "tags": []
          },
          "execution_count": 149
        }
      ]
    },
    {
      "cell_type": "code",
      "metadata": {
        "colab": {
          "base_uri": "https://localhost:8080/",
          "height": 297
        },
        "id": "EUR83h8Sibi2",
        "outputId": "a3b2fa19-cdcb-4be6-dfa9-f93ee6a65a43"
      },
      "source": [
        "data.describe()"
      ],
      "execution_count": 150,
      "outputs": [
        {
          "output_type": "execute_result",
          "data": {
            "text/html": [
              "<div>\n",
              "<style scoped>\n",
              "    .dataframe tbody tr th:only-of-type {\n",
              "        vertical-align: middle;\n",
              "    }\n",
              "\n",
              "    .dataframe tbody tr th {\n",
              "        vertical-align: top;\n",
              "    }\n",
              "\n",
              "    .dataframe thead th {\n",
              "        text-align: right;\n",
              "    }\n",
              "</style>\n",
              "<table border=\"1\" class=\"dataframe\">\n",
              "  <thead>\n",
              "    <tr style=\"text-align: right;\">\n",
              "      <th></th>\n",
              "      <th>pickuplocation_lat</th>\n",
              "      <th>pickuplocation_lng</th>\n",
              "      <th>droplocation_lat</th>\n",
              "      <th>droplocation_lng</th>\n",
              "      <th>subtotal</th>\n",
              "      <th>surge</th>\n",
              "      <th>distance</th>\n",
              "    </tr>\n",
              "  </thead>\n",
              "  <tbody>\n",
              "    <tr>\n",
              "      <th>count</th>\n",
              "      <td>537968.000000</td>\n",
              "      <td>537968.000000</td>\n",
              "      <td>537965.000000</td>\n",
              "      <td>537965.000000</td>\n",
              "      <td>537960.000000</td>\n",
              "      <td>504318.000000</td>\n",
              "      <td>537965.000000</td>\n",
              "    </tr>\n",
              "    <tr>\n",
              "      <th>mean</th>\n",
              "      <td>26.156753</td>\n",
              "      <td>91.769602</td>\n",
              "      <td>26.157185</td>\n",
              "      <td>91.768401</td>\n",
              "      <td>44.810190</td>\n",
              "      <td>1.598761</td>\n",
              "      <td>3.005648</td>\n",
              "    </tr>\n",
              "    <tr>\n",
              "      <th>std</th>\n",
              "      <td>0.070957</td>\n",
              "      <td>0.169599</td>\n",
              "      <td>0.037420</td>\n",
              "      <td>0.083548</td>\n",
              "      <td>26.821464</td>\n",
              "      <td>3.527428</td>\n",
              "      <td>16.618212</td>\n",
              "    </tr>\n",
              "    <tr>\n",
              "      <th>min</th>\n",
              "      <td>-18.142353</td>\n",
              "      <td>-16.679912</td>\n",
              "      <td>12.959388</td>\n",
              "      <td>70.066031</td>\n",
              "      <td>0.000000</td>\n",
              "      <td>0.000000</td>\n",
              "      <td>0.000000</td>\n",
              "    </tr>\n",
              "    <tr>\n",
              "      <th>25%</th>\n",
              "      <td>26.139098</td>\n",
              "      <td>91.752296</td>\n",
              "      <td>26.139164</td>\n",
              "      <td>91.750954</td>\n",
              "      <td>31.000000</td>\n",
              "      <td>0.000000</td>\n",
              "      <td>1.036649</td>\n",
              "    </tr>\n",
              "    <tr>\n",
              "      <th>50%</th>\n",
              "      <td>26.159117</td>\n",
              "      <td>91.774643</td>\n",
              "      <td>26.160004</td>\n",
              "      <td>91.773087</td>\n",
              "      <td>39.000000</td>\n",
              "      <td>0.000000</td>\n",
              "      <td>2.196933</td>\n",
              "    </tr>\n",
              "    <tr>\n",
              "      <th>75%</th>\n",
              "      <td>26.175751</td>\n",
              "      <td>91.790288</td>\n",
              "      <td>26.176632</td>\n",
              "      <td>91.789689</td>\n",
              "      <td>54.000000</td>\n",
              "      <td>0.000000</td>\n",
              "      <td>4.027438</td>\n",
              "    </tr>\n",
              "    <tr>\n",
              "      <th>max</th>\n",
              "      <td>28.514013</td>\n",
              "      <td>94.891169</td>\n",
              "      <td>28.494531</td>\n",
              "      <td>94.909240</td>\n",
              "      <td>681.000000</td>\n",
              "      <td>66.690000</td>\n",
              "      <td>12007.360365</td>\n",
              "    </tr>\n",
              "  </tbody>\n",
              "</table>\n",
              "</div>"
            ],
            "text/plain": [
              "       pickuplocation_lat  pickuplocation_lng  ...          surge       distance\n",
              "count       537968.000000       537968.000000  ...  504318.000000  537965.000000\n",
              "mean            26.156753           91.769602  ...       1.598761       3.005648\n",
              "std              0.070957            0.169599  ...       3.527428      16.618212\n",
              "min            -18.142353          -16.679912  ...       0.000000       0.000000\n",
              "25%             26.139098           91.752296  ...       0.000000       1.036649\n",
              "50%             26.159117           91.774643  ...       0.000000       2.196933\n",
              "75%             26.175751           91.790288  ...       0.000000       4.027438\n",
              "max             28.514013           94.891169  ...      66.690000   12007.360365\n",
              "\n",
              "[8 rows x 7 columns]"
            ]
          },
          "metadata": {
            "tags": []
          },
          "execution_count": 150
        }
      ]
    },
    {
      "cell_type": "code",
      "metadata": {
        "id": "W4y3Zm8NiblZ"
      },
      "source": [
        "#remove 0 distance and greater than 100 as ideally a trip >100km is not possible\n",
        "data = data.loc[(data['distance'] > 0) & (data['distance'] <100)]"
      ],
      "execution_count": 152,
      "outputs": []
    },
    {
      "cell_type": "code",
      "metadata": {
        "colab": {
          "base_uri": "https://localhost:8080/"
        },
        "id": "eK7LFLqIiboJ",
        "outputId": "62df26c9-9bbf-4e5d-a7b8-56ae1dc6d0af"
      },
      "source": [
        "data.info()"
      ],
      "execution_count": 153,
      "outputs": [
        {
          "output_type": "stream",
          "text": [
            "<class 'pandas.core.frame.DataFrame'>\n",
            "Int64Index: 537095 entries, 1 to 537968\n",
            "Data columns (total 10 columns):\n",
            " #   Column              Non-Null Count   Dtype  \n",
            "---  ------              --------------   -----  \n",
            " 0   customerid          537095 non-null  object \n",
            " 1   orderId             537095 non-null  object \n",
            " 2   yyyymmdd            537095 non-null  object \n",
            " 3   pickuplocation_lat  537095 non-null  float64\n",
            " 4   pickuplocation_lng  537095 non-null  float64\n",
            " 5   droplocation_lat    537095 non-null  float64\n",
            " 6   droplocation_lng    537095 non-null  float64\n",
            " 7   subtotal            537087 non-null  float64\n",
            " 8   surge               503538 non-null  float64\n",
            " 9   distance            537095 non-null  float64\n",
            "dtypes: float64(7), object(3)\n",
            "memory usage: 45.1+ MB\n"
          ],
          "name": "stdout"
        }
      ]
    },
    {
      "cell_type": "code",
      "metadata": {
        "colab": {
          "base_uri": "https://localhost:8080/",
          "height": 297
        },
        "id": "-Rt1dTO8pxiN",
        "outputId": "4aa8a848-0920-43e5-bb4a-0ba26c1f9687"
      },
      "source": [
        "data.describe()"
      ],
      "execution_count": 154,
      "outputs": [
        {
          "output_type": "execute_result",
          "data": {
            "text/html": [
              "<div>\n",
              "<style scoped>\n",
              "    .dataframe tbody tr th:only-of-type {\n",
              "        vertical-align: middle;\n",
              "    }\n",
              "\n",
              "    .dataframe tbody tr th {\n",
              "        vertical-align: top;\n",
              "    }\n",
              "\n",
              "    .dataframe thead th {\n",
              "        text-align: right;\n",
              "    }\n",
              "</style>\n",
              "<table border=\"1\" class=\"dataframe\">\n",
              "  <thead>\n",
              "    <tr style=\"text-align: right;\">\n",
              "      <th></th>\n",
              "      <th>pickuplocation_lat</th>\n",
              "      <th>pickuplocation_lng</th>\n",
              "      <th>droplocation_lat</th>\n",
              "      <th>droplocation_lng</th>\n",
              "      <th>subtotal</th>\n",
              "      <th>surge</th>\n",
              "      <th>distance</th>\n",
              "    </tr>\n",
              "  </thead>\n",
              "  <tbody>\n",
              "    <tr>\n",
              "      <th>count</th>\n",
              "      <td>537095.000000</td>\n",
              "      <td>537095.000000</td>\n",
              "      <td>537095.000000</td>\n",
              "      <td>537095.000000</td>\n",
              "      <td>537087.000000</td>\n",
              "      <td>503538.000000</td>\n",
              "      <td>5.370950e+05</td>\n",
              "    </tr>\n",
              "    <tr>\n",
              "      <th>mean</th>\n",
              "      <td>26.156835</td>\n",
              "      <td>91.769806</td>\n",
              "      <td>26.157186</td>\n",
              "      <td>91.768401</td>\n",
              "      <td>44.852808</td>\n",
              "      <td>1.600161</td>\n",
              "      <td>2.988160e+00</td>\n",
              "    </tr>\n",
              "    <tr>\n",
              "      <th>std</th>\n",
              "      <td>0.037261</td>\n",
              "      <td>0.083128</td>\n",
              "      <td>0.037438</td>\n",
              "      <td>0.083602</td>\n",
              "      <td>26.821065</td>\n",
              "      <td>3.529561</td>\n",
              "      <td>2.879804e+00</td>\n",
              "    </tr>\n",
              "    <tr>\n",
              "      <th>min</th>\n",
              "      <td>12.969963</td>\n",
              "      <td>70.046279</td>\n",
              "      <td>12.959388</td>\n",
              "      <td>70.066031</td>\n",
              "      <td>0.000000</td>\n",
              "      <td>0.000000</td>\n",
              "      <td>6.521343e-08</td>\n",
              "    </tr>\n",
              "    <tr>\n",
              "      <th>25%</th>\n",
              "      <td>26.139099</td>\n",
              "      <td>91.752296</td>\n",
              "      <td>26.139164</td>\n",
              "      <td>91.750946</td>\n",
              "      <td>31.000000</td>\n",
              "      <td>0.000000</td>\n",
              "      <td>1.041478e+00</td>\n",
              "    </tr>\n",
              "    <tr>\n",
              "      <th>50%</th>\n",
              "      <td>26.159119</td>\n",
              "      <td>91.774645</td>\n",
              "      <td>26.160009</td>\n",
              "      <td>91.773087</td>\n",
              "      <td>39.000000</td>\n",
              "      <td>0.000000</td>\n",
              "      <td>2.201156e+00</td>\n",
              "    </tr>\n",
              "    <tr>\n",
              "      <th>75%</th>\n",
              "      <td>26.175749</td>\n",
              "      <td>91.790288</td>\n",
              "      <td>26.176630</td>\n",
              "      <td>91.789689</td>\n",
              "      <td>54.000000</td>\n",
              "      <td>0.000000</td>\n",
              "      <td>4.030982e+00</td>\n",
              "    </tr>\n",
              "    <tr>\n",
              "      <th>max</th>\n",
              "      <td>28.514013</td>\n",
              "      <td>94.891169</td>\n",
              "      <td>28.494531</td>\n",
              "      <td>94.909240</td>\n",
              "      <td>681.000000</td>\n",
              "      <td>66.690000</td>\n",
              "      <td>3.709595e+01</td>\n",
              "    </tr>\n",
              "  </tbody>\n",
              "</table>\n",
              "</div>"
            ],
            "text/plain": [
              "       pickuplocation_lat  pickuplocation_lng  ...          surge      distance\n",
              "count       537095.000000       537095.000000  ...  503538.000000  5.370950e+05\n",
              "mean            26.156835           91.769806  ...       1.600161  2.988160e+00\n",
              "std              0.037261            0.083128  ...       3.529561  2.879804e+00\n",
              "min             12.969963           70.046279  ...       0.000000  6.521343e-08\n",
              "25%             26.139099           91.752296  ...       0.000000  1.041478e+00\n",
              "50%             26.159119           91.774645  ...       0.000000  2.201156e+00\n",
              "75%             26.175749           91.790288  ...       0.000000  4.030982e+00\n",
              "max             28.514013           94.891169  ...      66.690000  3.709595e+01\n",
              "\n",
              "[8 rows x 7 columns]"
            ]
          },
          "metadata": {
            "tags": []
          },
          "execution_count": 154
        }
      ]
    },
    {
      "cell_type": "code",
      "metadata": {
        "id": "-92_347DJKlZ"
      },
      "source": [
        ""
      ],
      "execution_count": null,
      "outputs": []
    },
    {
      "cell_type": "markdown",
      "metadata": {
        "id": "1qb8k-D7jt9_"
      },
      "source": [
        "**Question 1. Assume that you are a captain and you have a max limit of\n",
        "100 rides a month that you can do. Looking at this data, what\n",
        "geographical combinations would you target to do these 100 rides, so\n",
        "that you can maximise your earnings ? How would you distribute the 100?**"
      ]
    },
    {
      "cell_type": "markdown",
      "metadata": {
        "id": "WKXGwBFlj7ZB"
      },
      "source": [
        "1. As a captain, I will look at geographic pick up locations where the Total fare per distance covered is high, i.e. (Subtotal+surge)/Distance is higher\n",
        "2. Also,Will choose the locations closer to each other among these top 100 locations"
      ]
    },
    {
      "cell_type": "code",
      "metadata": {
        "id": "wFmfR4FKuYvx"
      },
      "source": [
        "#getting the top 100 pickup points based on fares per km in descending order, i.e the distance covered by captain is less and the fare is more, hence more profitable\n",
        "#distance>200m is considered\n",
        "pickup=sqldf(\"select distinct pickuplocation_lat,pickuplocation_lng,droplocation_lat,droplocation_lng, avg(subtotal+surge) as fare,avg(distance)  as dist,avg(subtotal+surge)/avg(distance) as fareperkm from data where distance >0.2 group by 1,2,3,4 order by 7 desc limit 100\")"
      ],
      "execution_count": 157,
      "outputs": []
    },
    {
      "cell_type": "code",
      "metadata": {
        "colab": {
          "base_uri": "https://localhost:8080/",
          "height": 297
        },
        "id": "toxhvYEVJM0P",
        "outputId": "7312d5e8-7590-4d31-ca0d-d08d80fe3ef3"
      },
      "source": [
        "pickup.describe()"
      ],
      "execution_count": 158,
      "outputs": [
        {
          "output_type": "execute_result",
          "data": {
            "text/html": [
              "<div>\n",
              "<style scoped>\n",
              "    .dataframe tbody tr th:only-of-type {\n",
              "        vertical-align: middle;\n",
              "    }\n",
              "\n",
              "    .dataframe tbody tr th {\n",
              "        vertical-align: top;\n",
              "    }\n",
              "\n",
              "    .dataframe thead th {\n",
              "        text-align: right;\n",
              "    }\n",
              "</style>\n",
              "<table border=\"1\" class=\"dataframe\">\n",
              "  <thead>\n",
              "    <tr style=\"text-align: right;\">\n",
              "      <th></th>\n",
              "      <th>pickuplocation_lat</th>\n",
              "      <th>pickuplocation_lng</th>\n",
              "      <th>droplocation_lat</th>\n",
              "      <th>droplocation_lng</th>\n",
              "      <th>fare</th>\n",
              "      <th>dist</th>\n",
              "      <th>fareperkm</th>\n",
              "    </tr>\n",
              "  </thead>\n",
              "  <tbody>\n",
              "    <tr>\n",
              "      <th>count</th>\n",
              "      <td>100.000000</td>\n",
              "      <td>100.000000</td>\n",
              "      <td>100.000000</td>\n",
              "      <td>100.000000</td>\n",
              "      <td>100.000000</td>\n",
              "      <td>100.000000</td>\n",
              "      <td>100.000000</td>\n",
              "    </tr>\n",
              "    <tr>\n",
              "      <th>mean</th>\n",
              "      <td>26.153388</td>\n",
              "      <td>91.768330</td>\n",
              "      <td>26.158668</td>\n",
              "      <td>91.768279</td>\n",
              "      <td>127.479750</td>\n",
              "      <td>0.253675</td>\n",
              "      <td>498.963819</td>\n",
              "    </tr>\n",
              "    <tr>\n",
              "      <th>std</th>\n",
              "      <td>0.027759</td>\n",
              "      <td>0.028123</td>\n",
              "      <td>0.035404</td>\n",
              "      <td>0.028095</td>\n",
              "      <td>47.381186</td>\n",
              "      <td>0.067890</td>\n",
              "      <td>89.712585</td>\n",
              "    </tr>\n",
              "    <tr>\n",
              "      <th>min</th>\n",
              "      <td>26.111547</td>\n",
              "      <td>91.673821</td>\n",
              "      <td>26.106590</td>\n",
              "      <td>91.671301</td>\n",
              "      <td>85.000000</td>\n",
              "      <td>0.200023</td>\n",
              "      <td>424.533924</td>\n",
              "    </tr>\n",
              "    <tr>\n",
              "      <th>25%</th>\n",
              "      <td>26.124632</td>\n",
              "      <td>91.753273</td>\n",
              "      <td>26.116958</td>\n",
              "      <td>91.752363</td>\n",
              "      <td>103.790000</td>\n",
              "      <td>0.216910</td>\n",
              "      <td>445.972086</td>\n",
              "    </tr>\n",
              "    <tr>\n",
              "      <th>50%</th>\n",
              "      <td>26.162597</td>\n",
              "      <td>91.774094</td>\n",
              "      <td>26.177397</td>\n",
              "      <td>91.774408</td>\n",
              "      <td>114.000000</td>\n",
              "      <td>0.237913</td>\n",
              "      <td>469.838498</td>\n",
              "    </tr>\n",
              "    <tr>\n",
              "      <th>75%</th>\n",
              "      <td>26.180668</td>\n",
              "      <td>91.789461</td>\n",
              "      <td>26.187016</td>\n",
              "      <td>91.789428</td>\n",
              "      <td>125.627500</td>\n",
              "      <td>0.268309</td>\n",
              "      <td>509.871712</td>\n",
              "    </tr>\n",
              "    <tr>\n",
              "      <th>max</th>\n",
              "      <td>26.204397</td>\n",
              "      <td>91.820863</td>\n",
              "      <td>26.206793</td>\n",
              "      <td>91.818946</td>\n",
              "      <td>421.000000</td>\n",
              "      <td>0.673241</td>\n",
              "      <td>966.921403</td>\n",
              "    </tr>\n",
              "  </tbody>\n",
              "</table>\n",
              "</div>"
            ],
            "text/plain": [
              "       pickuplocation_lat  pickuplocation_lng  ...        dist   fareperkm\n",
              "count          100.000000          100.000000  ...  100.000000  100.000000\n",
              "mean            26.153388           91.768330  ...    0.253675  498.963819\n",
              "std              0.027759            0.028123  ...    0.067890   89.712585\n",
              "min             26.111547           91.673821  ...    0.200023  424.533924\n",
              "25%             26.124632           91.753273  ...    0.216910  445.972086\n",
              "50%             26.162597           91.774094  ...    0.237913  469.838498\n",
              "75%             26.180668           91.789461  ...    0.268309  509.871712\n",
              "max             26.204397           91.820863  ...    0.673241  966.921403\n",
              "\n",
              "[8 rows x 7 columns]"
            ]
          },
          "metadata": {
            "tags": []
          },
          "execution_count": 158
        }
      ]
    },
    {
      "cell_type": "code",
      "metadata": {
        "colab": {
          "base_uri": "https://localhost:8080/"
        },
        "id": "EDERZ5R_RQLC",
        "outputId": "d51b4be7-170a-47af-bd00-c32667025e8a"
      },
      "source": [
        "#geohashes for top 100 pickup locations\n",
        "!pip install pygeohash"
      ],
      "execution_count": 122,
      "outputs": [
        {
          "output_type": "stream",
          "text": [
            "Collecting pygeohash\n",
            "  Downloading https://files.pythonhosted.org/packages/2c/33/c912fa4476cedcd3ed9cd25c44c163583b92d319860438e6b632f7f42d0c/pygeohash-1.2.0.tar.gz\n",
            "Building wheels for collected packages: pygeohash\n",
            "  Building wheel for pygeohash (setup.py) ... \u001b[?25l\u001b[?25hdone\n",
            "  Created wheel for pygeohash: filename=pygeohash-1.2.0-py2.py3-none-any.whl size=6162 sha256=8a5a641affff6915c8960f8c2bb0fe54fc50cd31885befbe522d51b95f956eaf\n",
            "  Stored in directory: /root/.cache/pip/wheels/3f/5f/14/989d83a271207dda28232746d63e737a2dbd88ea7f7a9db807\n",
            "Successfully built pygeohash\n",
            "Installing collected packages: pygeohash\n",
            "Successfully installed pygeohash-1.2.0\n"
          ],
          "name": "stdout"
        }
      ]
    },
    {
      "cell_type": "code",
      "metadata": {
        "id": "932wIErjR1K1"
      },
      "source": [
        "import pygeohash as gh"
      ],
      "execution_count": 159,
      "outputs": []
    },
    {
      "cell_type": "code",
      "metadata": {
        "id": "8oLO0R79Rc0d"
      },
      "source": [
        "pickup['geohash']=pickup.apply(lambda x: gh.encode(x.pickuplocation_lat, x.pickuplocation_lng, precision=5), axis=1)\n"
      ],
      "execution_count": 160,
      "outputs": []
    },
    {
      "cell_type": "code",
      "metadata": {
        "colab": {
          "base_uri": "https://localhost:8080/",
          "height": 419
        },
        "id": "AdtONraTSJpK",
        "outputId": "147d2de3-0033-4891-bef4-b0a70ee1e99b"
      },
      "source": [
        "pickup"
      ],
      "execution_count": 161,
      "outputs": [
        {
          "output_type": "execute_result",
          "data": {
            "text/html": [
              "<div>\n",
              "<style scoped>\n",
              "    .dataframe tbody tr th:only-of-type {\n",
              "        vertical-align: middle;\n",
              "    }\n",
              "\n",
              "    .dataframe tbody tr th {\n",
              "        vertical-align: top;\n",
              "    }\n",
              "\n",
              "    .dataframe thead th {\n",
              "        text-align: right;\n",
              "    }\n",
              "</style>\n",
              "<table border=\"1\" class=\"dataframe\">\n",
              "  <thead>\n",
              "    <tr style=\"text-align: right;\">\n",
              "      <th></th>\n",
              "      <th>pickuplocation_lat</th>\n",
              "      <th>pickuplocation_lng</th>\n",
              "      <th>droplocation_lat</th>\n",
              "      <th>droplocation_lng</th>\n",
              "      <th>fare</th>\n",
              "      <th>dist</th>\n",
              "      <th>fareperkm</th>\n",
              "      <th>geohash</th>\n",
              "    </tr>\n",
              "  </thead>\n",
              "  <tbody>\n",
              "    <tr>\n",
              "      <th>0</th>\n",
              "      <td>26.166009</td>\n",
              "      <td>91.746616</td>\n",
              "      <td>26.206289</td>\n",
              "      <td>91.744770</td>\n",
              "      <td>238.35</td>\n",
              "      <td>0.246504</td>\n",
              "      <td>966.921403</td>\n",
              "      <td>wh9hz</td>\n",
              "    </tr>\n",
              "    <tr>\n",
              "      <th>1</th>\n",
              "      <td>26.179235</td>\n",
              "      <td>91.739844</td>\n",
              "      <td>26.206793</td>\n",
              "      <td>91.741701</td>\n",
              "      <td>172.00</td>\n",
              "      <td>0.226462</td>\n",
              "      <td>759.508495</td>\n",
              "      <td>wh9hz</td>\n",
              "    </tr>\n",
              "    <tr>\n",
              "      <th>2</th>\n",
              "      <td>26.202071</td>\n",
              "      <td>91.693548</td>\n",
              "      <td>26.157322</td>\n",
              "      <td>91.692061</td>\n",
              "      <td>167.82</td>\n",
              "      <td>0.221301</td>\n",
              "      <td>758.334306</td>\n",
              "      <td>wh9jn</td>\n",
              "    </tr>\n",
              "    <tr>\n",
              "      <th>3</th>\n",
              "      <td>26.115257</td>\n",
              "      <td>91.722771</td>\n",
              "      <td>26.198191</td>\n",
              "      <td>91.723389</td>\n",
              "      <td>214.54</td>\n",
              "      <td>0.285676</td>\n",
              "      <td>750.990436</td>\n",
              "      <td>wh9hx</td>\n",
              "    </tr>\n",
              "    <tr>\n",
              "      <th>4</th>\n",
              "      <td>26.115257</td>\n",
              "      <td>91.722770</td>\n",
              "      <td>26.198191</td>\n",
              "      <td>91.723390</td>\n",
              "      <td>214.54</td>\n",
              "      <td>0.285731</td>\n",
              "      <td>750.844782</td>\n",
              "      <td>wh9hx</td>\n",
              "    </tr>\n",
              "    <tr>\n",
              "      <th>...</th>\n",
              "      <td>...</td>\n",
              "      <td>...</td>\n",
              "      <td>...</td>\n",
              "      <td>...</td>\n",
              "      <td>...</td>\n",
              "      <td>...</td>\n",
              "      <td>...</td>\n",
              "      <td>...</td>\n",
              "    </tr>\n",
              "    <tr>\n",
              "      <th>95</th>\n",
              "      <td>26.169897</td>\n",
              "      <td>91.763368</td>\n",
              "      <td>26.131676</td>\n",
              "      <td>91.761871</td>\n",
              "      <td>90.32</td>\n",
              "      <td>0.211641</td>\n",
              "      <td>426.759425</td>\n",
              "      <td>wh9kb</td>\n",
              "    </tr>\n",
              "    <tr>\n",
              "      <th>96</th>\n",
              "      <td>26.186987</td>\n",
              "      <td>91.741691</td>\n",
              "      <td>26.126488</td>\n",
              "      <td>91.742412</td>\n",
              "      <td>93.68</td>\n",
              "      <td>0.219639</td>\n",
              "      <td>426.517195</td>\n",
              "      <td>wh9hz</td>\n",
              "    </tr>\n",
              "    <tr>\n",
              "      <th>97</th>\n",
              "      <td>26.181840</td>\n",
              "      <td>91.801928</td>\n",
              "      <td>26.128624</td>\n",
              "      <td>91.801268</td>\n",
              "      <td>85.00</td>\n",
              "      <td>0.200023</td>\n",
              "      <td>424.951319</td>\n",
              "      <td>wh9kc</td>\n",
              "    </tr>\n",
              "    <tr>\n",
              "      <th>98</th>\n",
              "      <td>26.137557</td>\n",
              "      <td>91.800053</td>\n",
              "      <td>26.190600</td>\n",
              "      <td>91.801800</td>\n",
              "      <td>114.01</td>\n",
              "      <td>0.268536</td>\n",
              "      <td>424.561428</td>\n",
              "      <td>wh9k8</td>\n",
              "    </tr>\n",
              "    <tr>\n",
              "      <th>99</th>\n",
              "      <td>26.137705</td>\n",
              "      <td>91.799927</td>\n",
              "      <td>26.190731</td>\n",
              "      <td>91.801674</td>\n",
              "      <td>113.98</td>\n",
              "      <td>0.268483</td>\n",
              "      <td>424.533924</td>\n",
              "      <td>wh9k8</td>\n",
              "    </tr>\n",
              "  </tbody>\n",
              "</table>\n",
              "<p>100 rows × 8 columns</p>\n",
              "</div>"
            ],
            "text/plain": [
              "    pickuplocation_lat  pickuplocation_lng  ...   fareperkm  geohash\n",
              "0            26.166009           91.746616  ...  966.921403    wh9hz\n",
              "1            26.179235           91.739844  ...  759.508495    wh9hz\n",
              "2            26.202071           91.693548  ...  758.334306    wh9jn\n",
              "3            26.115257           91.722771  ...  750.990436    wh9hx\n",
              "4            26.115257           91.722770  ...  750.844782    wh9hx\n",
              "..                 ...                 ...  ...         ...      ...\n",
              "95           26.169897           91.763368  ...  426.759425    wh9kb\n",
              "96           26.186987           91.741691  ...  426.517195    wh9hz\n",
              "97           26.181840           91.801928  ...  424.951319    wh9kc\n",
              "98           26.137557           91.800053  ...  424.561428    wh9k8\n",
              "99           26.137705           91.799927  ...  424.533924    wh9k8\n",
              "\n",
              "[100 rows x 8 columns]"
            ]
          },
          "metadata": {
            "tags": []
          },
          "execution_count": 161
        }
      ]
    },
    {
      "cell_type": "code",
      "metadata": {
        "id": "kKHUDuM0uY_6"
      },
      "source": [
        ""
      ],
      "execution_count": null,
      "outputs": []
    },
    {
      "cell_type": "markdown",
      "metadata": {
        "id": "sBxiXn4KkrEu"
      },
      "source": [
        "**Question 2. Find week-on-week retention cohorts for surged customers\n",
        "The dataset contains the orders for a month. Looking at this dataset, can you attempt to answer the following questions-**\n",
        "\n",
        "**1. For surged customers, can we find the week-on-week percentage of customers who came\n",
        "back to take a ride?**"
      ]
    },
    {
      "cell_type": "code",
      "metadata": {
        "id": "VGJ5MDv6IkTC"
      },
      "source": [
        "##converting date string to datetime\n",
        "data['yyyymmdd'] = pd.to_datetime(data['yyyymmdd'],format='%Y%m%d')\n",
        "\n"
      ],
      "execution_count": 162,
      "outputs": []
    },
    {
      "cell_type": "code",
      "metadata": {
        "colab": {
          "base_uri": "https://localhost:8080/"
        },
        "id": "9PvK6bRQIX4x",
        "outputId": "40840a8b-666d-4df1-a2a6-5433e8d1eda7"
      },
      "source": [
        "data['yyyymmdd']"
      ],
      "execution_count": 163,
      "outputs": [
        {
          "output_type": "execute_result",
          "data": {
            "text/plain": [
              "1        2020-11-30\n",
              "2        2020-11-30\n",
              "3        2020-11-30\n",
              "4        2020-11-30\n",
              "5        2020-11-30\n",
              "            ...    \n",
              "537964   2020-11-01\n",
              "537965   2020-11-01\n",
              "537966   2020-11-01\n",
              "537967   2020-11-01\n",
              "537968   2020-11-01\n",
              "Name: yyyymmdd, Length: 537095, dtype: datetime64[ns]"
            ]
          },
          "metadata": {
            "tags": []
          },
          "execution_count": 163
        }
      ]
    },
    {
      "cell_type": "markdown",
      "metadata": {
        "id": "bLA0hUUClElK"
      },
      "source": [
        "Retention Calculation -Surged Customers\n",
        "\n",
        "1. Week 1 to Week 4 have been considered from 1st Nov 2020 to 28th nov 2020, with a gap of 7 days as per data\n"
      ]
    },
    {
      "cell_type": "code",
      "metadata": {
        "id": "MwdjB_92H8IP"
      },
      "source": [
        "##getting login weeks for all surged customers\n",
        "login=sqldf(\"select distinct case when yyyymmdd <='2020-11-07' then 'week1' when (yyyymmdd >'2020-11-07' and yyyymmdd<='2020-11-14')  then 'week2' when (yyyymmdd >'2020-11-14' and yyyymmdd<='2020-11-21')  then 'week3' when (yyyymmdd >'2020-11-21' and yyyymmdd<='2020-11-28')  then 'week4' end as week,customerid as cust from data where surge>0 and surge is not null and yyyymmdd <='2020-11-28' \")"
      ],
      "execution_count": 127,
      "outputs": []
    },
    {
      "cell_type": "code",
      "metadata": {
        "colab": {
          "base_uri": "https://localhost:8080/",
          "height": 204
        },
        "id": "dqiJZvg_FPlv",
        "outputId": "d2364e78-85d4-49e6-b4a8-d5a157bb8daa"
      },
      "source": [
        "login.head()"
      ],
      "execution_count": 128,
      "outputs": [
        {
          "output_type": "execute_result",
          "data": {
            "text/html": [
              "<div>\n",
              "<style scoped>\n",
              "    .dataframe tbody tr th:only-of-type {\n",
              "        vertical-align: middle;\n",
              "    }\n",
              "\n",
              "    .dataframe tbody tr th {\n",
              "        vertical-align: top;\n",
              "    }\n",
              "\n",
              "    .dataframe thead th {\n",
              "        text-align: right;\n",
              "    }\n",
              "</style>\n",
              "<table border=\"1\" class=\"dataframe\">\n",
              "  <thead>\n",
              "    <tr style=\"text-align: right;\">\n",
              "      <th></th>\n",
              "      <th>week</th>\n",
              "      <th>cust</th>\n",
              "    </tr>\n",
              "  </thead>\n",
              "  <tbody>\n",
              "    <tr>\n",
              "      <th>0</th>\n",
              "      <td>week4</td>\n",
              "      <td>0284d4e91011204</td>\n",
              "    </tr>\n",
              "    <tr>\n",
              "      <th>1</th>\n",
              "      <td>week4</td>\n",
              "      <td>936edc1d1015272</td>\n",
              "    </tr>\n",
              "    <tr>\n",
              "      <th>2</th>\n",
              "      <td>week4</td>\n",
              "      <td>c17899491011125</td>\n",
              "    </tr>\n",
              "    <tr>\n",
              "      <th>3</th>\n",
              "      <td>week4</td>\n",
              "      <td>4773cb6a1015277</td>\n",
              "    </tr>\n",
              "    <tr>\n",
              "      <th>4</th>\n",
              "      <td>week4</td>\n",
              "      <td>615bfcea1015278</td>\n",
              "    </tr>\n",
              "  </tbody>\n",
              "</table>\n",
              "</div>"
            ],
            "text/plain": [
              "    week             cust\n",
              "0  week4  0284d4e91011204\n",
              "1  week4  936edc1d1015272\n",
              "2  week4  c17899491011125\n",
              "3  week4  4773cb6a1015277\n",
              "4  week4  615bfcea1015278"
            ]
          },
          "metadata": {
            "tags": []
          },
          "execution_count": 128
        }
      ]
    },
    {
      "cell_type": "code",
      "metadata": {
        "id": "ireO_lRTHvoe"
      },
      "source": [
        "##getting first week as well as all login weeks for surged customers\n",
        "base=sqldf(\"Select a.*,b.week from (SELECT distinct cust,min(week) as firstweek FROM login group by 1)a inner join login b on a.cust=b.cust order by 1 desc\")"
      ],
      "execution_count": 129,
      "outputs": []
    },
    {
      "cell_type": "code",
      "metadata": {
        "colab": {
          "base_uri": "https://localhost:8080/",
          "height": 204
        },
        "id": "iiL0QMn_dw3t",
        "outputId": "65afb476-c628-4027-f2d5-749f75c0abc4"
      },
      "source": [
        "base.head()"
      ],
      "execution_count": 130,
      "outputs": [
        {
          "output_type": "execute_result",
          "data": {
            "text/html": [
              "<div>\n",
              "<style scoped>\n",
              "    .dataframe tbody tr th:only-of-type {\n",
              "        vertical-align: middle;\n",
              "    }\n",
              "\n",
              "    .dataframe tbody tr th {\n",
              "        vertical-align: top;\n",
              "    }\n",
              "\n",
              "    .dataframe thead th {\n",
              "        text-align: right;\n",
              "    }\n",
              "</style>\n",
              "<table border=\"1\" class=\"dataframe\">\n",
              "  <thead>\n",
              "    <tr style=\"text-align: right;\">\n",
              "      <th></th>\n",
              "      <th>cust</th>\n",
              "      <th>firstweek</th>\n",
              "      <th>week</th>\n",
              "    </tr>\n",
              "  </thead>\n",
              "  <tbody>\n",
              "    <tr>\n",
              "      <th>0</th>\n",
              "      <td>fffe3e301035882</td>\n",
              "      <td>week4</td>\n",
              "      <td>week4</td>\n",
              "    </tr>\n",
              "    <tr>\n",
              "      <th>1</th>\n",
              "      <td>fffa4f1a1059892</td>\n",
              "      <td>week3</td>\n",
              "      <td>week3</td>\n",
              "    </tr>\n",
              "    <tr>\n",
              "      <th>2</th>\n",
              "      <td>fff9c5c91060903</td>\n",
              "      <td>week2</td>\n",
              "      <td>week2</td>\n",
              "    </tr>\n",
              "    <tr>\n",
              "      <th>3</th>\n",
              "      <td>fff63e0e1017528</td>\n",
              "      <td>week1</td>\n",
              "      <td>week4</td>\n",
              "    </tr>\n",
              "    <tr>\n",
              "      <th>4</th>\n",
              "      <td>fff63e0e1017528</td>\n",
              "      <td>week1</td>\n",
              "      <td>week2</td>\n",
              "    </tr>\n",
              "  </tbody>\n",
              "</table>\n",
              "</div>"
            ],
            "text/plain": [
              "              cust firstweek   week\n",
              "0  fffe3e301035882     week4  week4\n",
              "1  fffa4f1a1059892     week3  week3\n",
              "2  fff9c5c91060903     week2  week2\n",
              "3  fff63e0e1017528     week1  week4\n",
              "4  fff63e0e1017528     week1  week2"
            ]
          },
          "metadata": {
            "tags": []
          },
          "execution_count": 130
        }
      ]
    },
    {
      "cell_type": "code",
      "metadata": {
        "id": "IKYeWeB_Hlvc"
      },
      "source": [
        "##getting the final cohort retention table week 1 to week 4 for surged customers\n",
        "cohort=sqldf(\"select firstweek,sum(case when week='week1' then 1 else 0 end) as week_1,sum(case when week='week2' then 1 else 0 end) as week_2,sum(case when week='week3' then 1 else 0 end) as week_3,sum(case when week='week4' then 1 else 0 end) as week_4 from base group by 1\")"
      ],
      "execution_count": 131,
      "outputs": []
    },
    {
      "cell_type": "code",
      "metadata": {
        "colab": {
          "base_uri": "https://localhost:8080/",
          "height": 173
        },
        "id": "dwUQMKy8d2qe",
        "outputId": "d68eaa6f-dcf3-4c32-f1b3-76ef1b05a422"
      },
      "source": [
        "cohort"
      ],
      "execution_count": 132,
      "outputs": [
        {
          "output_type": "execute_result",
          "data": {
            "text/html": [
              "<div>\n",
              "<style scoped>\n",
              "    .dataframe tbody tr th:only-of-type {\n",
              "        vertical-align: middle;\n",
              "    }\n",
              "\n",
              "    .dataframe tbody tr th {\n",
              "        vertical-align: top;\n",
              "    }\n",
              "\n",
              "    .dataframe thead th {\n",
              "        text-align: right;\n",
              "    }\n",
              "</style>\n",
              "<table border=\"1\" class=\"dataframe\">\n",
              "  <thead>\n",
              "    <tr style=\"text-align: right;\">\n",
              "      <th></th>\n",
              "      <th>firstweek</th>\n",
              "      <th>week_1</th>\n",
              "      <th>week_2</th>\n",
              "      <th>week_3</th>\n",
              "      <th>week_4</th>\n",
              "    </tr>\n",
              "  </thead>\n",
              "  <tbody>\n",
              "    <tr>\n",
              "      <th>0</th>\n",
              "      <td>week1</td>\n",
              "      <td>8422</td>\n",
              "      <td>3188</td>\n",
              "      <td>1968</td>\n",
              "      <td>1963</td>\n",
              "    </tr>\n",
              "    <tr>\n",
              "      <th>1</th>\n",
              "      <td>week2</td>\n",
              "      <td>0</td>\n",
              "      <td>14689</td>\n",
              "      <td>2381</td>\n",
              "      <td>2435</td>\n",
              "    </tr>\n",
              "    <tr>\n",
              "      <th>2</th>\n",
              "      <td>week3</td>\n",
              "      <td>0</td>\n",
              "      <td>0</td>\n",
              "      <td>6444</td>\n",
              "      <td>1083</td>\n",
              "    </tr>\n",
              "    <tr>\n",
              "      <th>3</th>\n",
              "      <td>week4</td>\n",
              "      <td>0</td>\n",
              "      <td>0</td>\n",
              "      <td>0</td>\n",
              "      <td>7201</td>\n",
              "    </tr>\n",
              "  </tbody>\n",
              "</table>\n",
              "</div>"
            ],
            "text/plain": [
              "  firstweek  week_1  week_2  week_3  week_4\n",
              "0     week1    8422    3188    1968    1963\n",
              "1     week2       0   14689    2381    2435\n",
              "2     week3       0       0    6444    1083\n",
              "3     week4       0       0       0    7201"
            ]
          },
          "metadata": {
            "tags": []
          },
          "execution_count": 132
        }
      ]
    },
    {
      "cell_type": "markdown",
      "metadata": {
        "id": "cBpG-kwDe4CI"
      },
      "source": [
        "![image.png](data:image/png;base64,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)"
      ]
    },
    {
      "cell_type": "markdown",
      "metadata": {
        "id": "qOa2FnFNfF0w"
      },
      "source": [
        "Retention Rates Without Surge"
      ]
    },
    {
      "cell_type": "code",
      "metadata": {
        "id": "ruSHzBfrfYmf"
      },
      "source": [
        "login2=sqldf(\"select distinct case when yyyymmdd <='2020-11-07' then 'week1' when (yyyymmdd >'2020-11-07' and yyyymmdd<='2020-11-14')  then 'week2' when (yyyymmdd >'2020-11-14' and yyyymmdd<='2020-11-21')  then 'week3' when (yyyymmdd >'2020-11-21' and yyyymmdd<='2020-11-28')  then 'week4' end as week,customerid as cust from data where (surge =0 or surge is null )and yyyymmdd <='2020-11-28' \")"
      ],
      "execution_count": 133,
      "outputs": []
    },
    {
      "cell_type": "code",
      "metadata": {
        "id": "fuXtF4h8feFO"
      },
      "source": [
        "base2=sqldf(\"Select a.*,b.week from (SELECT distinct cust,min(week) as firstweek FROM login2 group by 1)a inner join login2 b on a.cust=b.cust order by 1 desc\")"
      ],
      "execution_count": 137,
      "outputs": []
    },
    {
      "cell_type": "code",
      "metadata": {
        "id": "rsPis05tfoBy"
      },
      "source": [
        "cohort2=sqldf(\"select firstweek,sum(case when week='week1' then 1 else 0 end) as week_1,sum(case when week='week2' then 1 else 0 end) as week_2,sum(case when week='week3' then 1 else 0 end) as week_3,sum(case when week='week4' then 1 else 0 end) as week_4 from base2 group by 1\")"
      ],
      "execution_count": 138,
      "outputs": []
    },
    {
      "cell_type": "code",
      "metadata": {
        "colab": {
          "base_uri": "https://localhost:8080/",
          "height": 173
        },
        "id": "E_0N9gJ0f8LC",
        "outputId": "d9db0e01-6b97-408d-b747-0fe3f2746684"
      },
      "source": [
        "cohort2"
      ],
      "execution_count": 139,
      "outputs": [
        {
          "output_type": "execute_result",
          "data": {
            "text/html": [
              "<div>\n",
              "<style scoped>\n",
              "    .dataframe tbody tr th:only-of-type {\n",
              "        vertical-align: middle;\n",
              "    }\n",
              "\n",
              "    .dataframe tbody tr th {\n",
              "        vertical-align: top;\n",
              "    }\n",
              "\n",
              "    .dataframe thead th {\n",
              "        text-align: right;\n",
              "    }\n",
              "</style>\n",
              "<table border=\"1\" class=\"dataframe\">\n",
              "  <thead>\n",
              "    <tr style=\"text-align: right;\">\n",
              "      <th></th>\n",
              "      <th>firstweek</th>\n",
              "      <th>week_1</th>\n",
              "      <th>week_2</th>\n",
              "      <th>week_3</th>\n",
              "      <th>week_4</th>\n",
              "    </tr>\n",
              "  </thead>\n",
              "  <tbody>\n",
              "    <tr>\n",
              "      <th>0</th>\n",
              "      <td>week1</td>\n",
              "      <td>27968</td>\n",
              "      <td>12742</td>\n",
              "      <td>10312</td>\n",
              "      <td>10286</td>\n",
              "    </tr>\n",
              "    <tr>\n",
              "      <th>1</th>\n",
              "      <td>week2</td>\n",
              "      <td>0</td>\n",
              "      <td>19124</td>\n",
              "      <td>5300</td>\n",
              "      <td>5092</td>\n",
              "    </tr>\n",
              "    <tr>\n",
              "      <th>2</th>\n",
              "      <td>week3</td>\n",
              "      <td>0</td>\n",
              "      <td>0</td>\n",
              "      <td>13767</td>\n",
              "      <td>3807</td>\n",
              "    </tr>\n",
              "    <tr>\n",
              "      <th>3</th>\n",
              "      <td>week4</td>\n",
              "      <td>0</td>\n",
              "      <td>0</td>\n",
              "      <td>0</td>\n",
              "      <td>13205</td>\n",
              "    </tr>\n",
              "  </tbody>\n",
              "</table>\n",
              "</div>"
            ],
            "text/plain": [
              "  firstweek  week_1  week_2  week_3  week_4\n",
              "0     week1   27968   12742   10312   10286\n",
              "1     week2       0   19124    5300    5092\n",
              "2     week3       0       0   13767    3807\n",
              "3     week4       0       0       0   13205"
            ]
          },
          "metadata": {
            "tags": []
          },
          "execution_count": 139
        }
      ]
    },
    {
      "cell_type": "markdown",
      "metadata": {
        "id": "tjGTflvWgOHq"
      },
      "source": [
        "![image.png](data:image/png;base64,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)"
      ]
    },
    {
      "cell_type": "markdown",
      "metadata": {
        "id": "NOeP-YW7lekz"
      },
      "source": [
        "**2. Does surge have a negative impact on retention of customers ? What data would you look\n",
        "at to attempt to answer this question ? Can you support your answer with relevant data that\n",
        "you looked at ?**"
      ]
    },
    {
      "cell_type": "markdown",
      "metadata": {
        "id": "0sFeorqwgYCd"
      },
      "source": [
        "From the cohort1 and cohort 2 tables, We can see that the Surge pricing has had a negative impact on the Week on Week Retention rates, nearly **14% dip** in Week4 Retention rate for Week 1 Cohort"
      ]
    },
    {
      "cell_type": "code",
      "metadata": {
        "id": "zAiatsAyf8UO"
      },
      "source": [
        ""
      ],
      "execution_count": null,
      "outputs": []
    },
    {
      "cell_type": "markdown",
      "metadata": {
        "id": "M_y8vmWiXTDT"
      },
      "source": [
        "# **Question 3. How do I set up the experiment, if I want to test the following hypothesis Hypothesis: Suppose we have a pricing algorithm that suggests that we want to surge a particular geographic location by flat 20%**\n",
        "\n",
        "Sol :\n",
        "We should start an experiment - For HSR Layout -surge the prices by flat 20%\n",
        "\n",
        "**Null Hypothesis** - There is no impact by this change\n",
        "**Alternate Hypothesis** - Demand will drop but as the ticket size is high, the overall revenue will go up\n",
        "\n",
        "*Assumption* - Similar external conditions in both Test and Control groups\n",
        "\n",
        "1. We can conduct an experiment wherein we surge the prices by flat 20% at HSR Layout for a week (to cover all days -weekdays/weekends) without any other campaign/experiments going on at the same time so that the results are not biased- Test Group\n",
        "\n",
        "2. We would have the data for prior weeks when there was no such experiment and the following week ,this could be our Control Group\n",
        "\n",
        "3. We shall then compare the performances for the Test and Control Group\n",
        "\n",
        "## **Question 4. Was the experiment successful?**\n",
        "\n",
        "4. Metrics to be considered - At HSR Layout - \n",
        "- Bookings per day for each day of the week\n",
        "- Bookings at different times of the day\n",
        "- Gross Revenue owing to the trips\n",
        "- Regular/Frequent Customers Behaviour or Behaviour across Customer segments\n",
        "- Sessions per day\n",
        "- Avg Captain waiting time\n",
        "- Cancellations per day\n",
        "\n",
        "Similar metrics for other places, can also be seen to see if the change has has any impact \n",
        "\n",
        "5. Measurement - Perform Statistical Tests to see if the difference is significant enough to reject the null hypothesis. Look at the p values and Confidence intervals. If the overall revenue has been higher with the experiment, we can proceed with this at other similar places also(similar to HSR Layout) "
      ]
    }
  ]
}